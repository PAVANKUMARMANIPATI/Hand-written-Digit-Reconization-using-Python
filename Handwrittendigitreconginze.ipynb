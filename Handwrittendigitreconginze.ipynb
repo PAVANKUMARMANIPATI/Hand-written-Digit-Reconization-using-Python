{
 "cells": [
  {
   "cell_type": "code",
   "execution_count": 7,
   "id": "82b58f0c-14b3-40a4-a740-c67324bdc027",
   "metadata": {},
   "outputs": [],
   "source": [
    "#  Requirements\n",
    "# 1.Tensorflow\n",
    "# 2.Keras\n",
    "# 3.Mnist dataset\n",
    "# 4.Tkinter\n",
    "# 5.Pillow\n",
    "# 6.Numpy"
   ]
  },
  {
   "cell_type": "code",
   "execution_count": null,
   "id": "98913267-1144-4b53-9bf9-45abe280f178",
   "metadata": {},
   "outputs": [],
   "source": []
  },
  {
   "cell_type": "code",
   "execution_count": 10,
   "id": "b539a32b-a332-477c-be95-3f4cde6297a5",
   "metadata": {},
   "outputs": [
    {
     "name": "stdout",
     "output_type": "stream",
     "text": [
      "Epoch 1/10\n",
      "\u001b[1m469/469\u001b[0m \u001b[32m━━━━━━━━━━━━━━━━━━━━\u001b[0m\u001b[37m\u001b[0m \u001b[1m49s\u001b[0m 83ms/step - accuracy: 0.0957 - loss: 2.3091 - val_accuracy: 0.1117 - val_loss: 2.2949\n",
      "Epoch 2/10\n",
      "\u001b[1m469/469\u001b[0m \u001b[32m━━━━━━━━━━━━━━━━━━━━\u001b[0m\u001b[37m\u001b[0m \u001b[1m62s\u001b[0m 133ms/step - accuracy: 0.1103 - loss: 2.2971 - val_accuracy: 0.1468 - val_loss: 2.2813\n",
      "Epoch 3/10\n",
      "\u001b[1m469/469\u001b[0m \u001b[32m━━━━━━━━━━━━━━━━━━━━\u001b[0m\u001b[37m\u001b[0m \u001b[1m82s\u001b[0m 133ms/step - accuracy: 0.1285 - loss: 2.2848 - val_accuracy: 0.2150 - val_loss: 2.2677\n",
      "Epoch 4/10\n",
      "\u001b[1m469/469\u001b[0m \u001b[32m━━━━━━━━━━━━━━━━━━━━\u001b[0m\u001b[37m\u001b[0m \u001b[1m54s\u001b[0m 116ms/step - accuracy: 0.1524 - loss: 2.2722 - val_accuracy: 0.3088 - val_loss: 2.2526\n",
      "Epoch 5/10\n",
      "\u001b[1m469/469\u001b[0m \u001b[32m━━━━━━━━━━━━━━━━━━━━\u001b[0m\u001b[37m\u001b[0m \u001b[1m91s\u001b[0m 134ms/step - accuracy: 0.1773 - loss: 2.2582 - val_accuracy: 0.3637 - val_loss: 2.2363\n",
      "Epoch 6/10\n",
      "\u001b[1m469/469\u001b[0m \u001b[32m━━━━━━━━━━━━━━━━━━━━\u001b[0m\u001b[37m\u001b[0m \u001b[1m76s\u001b[0m 120ms/step - accuracy: 0.2005 - loss: 2.2433 - val_accuracy: 0.3965 - val_loss: 2.2180\n",
      "Epoch 7/10\n",
      "\u001b[1m469/469\u001b[0m \u001b[32m━━━━━━━━━━━━━━━━━━━━\u001b[0m\u001b[37m\u001b[0m \u001b[1m52s\u001b[0m 112ms/step - accuracy: 0.2183 - loss: 2.2286 - val_accuracy: 0.4177 - val_loss: 2.1968\n",
      "Epoch 8/10\n",
      "\u001b[1m469/469\u001b[0m \u001b[32m━━━━━━━━━━━━━━━━━━━━\u001b[0m\u001b[37m\u001b[0m \u001b[1m50s\u001b[0m 106ms/step - accuracy: 0.2418 - loss: 2.2078 - val_accuracy: 0.4399 - val_loss: 2.1714\n",
      "Epoch 9/10\n",
      "\u001b[1m469/469\u001b[0m \u001b[32m━━━━━━━━━━━━━━━━━━━━\u001b[0m\u001b[37m\u001b[0m \u001b[1m50s\u001b[0m 106ms/step - accuracy: 0.2599 - loss: 2.1863 - val_accuracy: 0.4660 - val_loss: 2.1439\n",
      "Epoch 10/10\n",
      "\u001b[1m469/469\u001b[0m \u001b[32m━━━━━━━━━━━━━━━━━━━━\u001b[0m\u001b[37m\u001b[0m \u001b[1m32s\u001b[0m 67ms/step - accuracy: 0.2795 - loss: 2.1649 - val_accuracy: 0.4886 - val_loss: 2.1143\n"
     ]
    },
    {
     "name": "stderr",
     "output_type": "stream",
     "text": [
      "WARNING:absl:You are saving your model as an HDF5 file via `model.save()` or `keras.saving.save_model(model)`. This file format is considered legacy. We recommend using instead the native Keras format, e.g. `model.save('my_model.keras')` or `keras.saving.save_model(model, 'my_model.keras')`. \n"
     ]
    },
    {
     "name": "stdout",
     "output_type": "stream",
     "text": [
      "Loss =  2.114264488220215\n",
      "Accuracy =  0.4885999858379364\n"
     ]
    }
   ],
   "source": [
    "import keras\n",
    "from keras.datasets import mnist # type: ignore\n",
    "from keras.models import Sequential # type: ignore\n",
    "from keras.layers import Dense, Dropout, Flatten # type: ignore\n",
    "from keras.layers import Conv2D, MaxPooling2D # type: ignore\n",
    "from keras.utils import to_categorical # type: ignore\n",
    "from keras import backend as k\n",
    "\n",
    "# Splitting data into test and train\n",
    "\n",
    "\n",
    "(x_train, y_train), (x_test, y_test) = mnist.load_data()\n",
    "x_train = x_train.reshape(x_train.shape[0], 28, 28, 1)\n",
    "x_test = x_test.reshape(x_test.shape[0], 28, 28, 1)\n",
    "input_shape = (28, 28, 1)\n",
    "\n",
    "\n",
    "\n",
    "\n",
    "# Converting class vectors to binary\n",
    "\n",
    "\n",
    "y_train = to_categorical(y_train, 10)\n",
    "y_test = to_categorical(y_test, 10)\n",
    "\n",
    "\n",
    "\n",
    "x_train = x_train.astype(\"float32\")\n",
    "x_test = x_test.astype(\"float32\")\n",
    "\n",
    "\n",
    "\n",
    "x_train /= 255\n",
    "x_test /= 255\n",
    "\n",
    "\n",
    "\n",
    "batch_size = 128\n",
    "num_classes = 10  # number of classes\n",
    "epochs = 10\n",
    "\n",
    "\n",
    "\n",
    "model = Sequential()\n",
    "model.add(Conv2D(32, kernel_size=(5, 5), activation='relu', input_shape=input_shape))\n",
    "model.add(MaxPooling2D(pool_size=(2, 2)))\n",
    "model.add(Conv2D(64, kernel_size=(5, 5), activation='relu'))\n",
    "model.add(MaxPooling2D(pool_size=(2, 2)))\n",
    "model.add(Flatten())\n",
    "model.add(Dense(128, activation='relu'))\n",
    "model.add(Dropout(0.3))\n",
    "model.add(Dense(64, activation='relu'))\n",
    "model.add(Dropout(0.5))\n",
    "model.add(Dense(num_classes, activation='softmax'))\n",
    "\n",
    "\n",
    "\n",
    "model.compile(loss=keras.losses.categorical_crossentropy,\n",
    "              optimizer=keras.optimizers.Adadelta(),\n",
    "              metrics=['accuracy'])\n",
    "\n",
    "\n",
    "\n",
    "hist = model.fit(x_train, y_train, batch_size=batch_size, epochs=epochs, verbose=1, validation_data=(x_test, y_test))\n",
    "\n",
    "\n",
    "score = model.evaluate(x_test, y_test, verbose=0)\n",
    "\n",
    "\n",
    "print(\"Loss = \", score[0])\n",
    "print(\"Accuracy = \", score[1])\n",
    "\n",
    "model.save('mnist.h5')\n"
   ]
  },
  {
   "cell_type": "code",
   "execution_count": null,
   "id": "808637aa-af19-4439-8031-e8c2811c601c",
   "metadata": {},
   "outputs": [],
   "source": []
  }
 ],
 "metadata": {
  "kernelspec": {
   "display_name": "Python 3 (ipykernel)",
   "language": "python",
   "name": "python3"
  },
  "language_info": {
   "codemirror_mode": {
    "name": "ipython",
    "version": 3
   },
   "file_extension": ".py",
   "mimetype": "text/x-python",
   "name": "python",
   "nbconvert_exporter": "python",
   "pygments_lexer": "ipython3",
   "version": "3.12.4"
  }
 },
 "nbformat": 4,
 "nbformat_minor": 5
}
